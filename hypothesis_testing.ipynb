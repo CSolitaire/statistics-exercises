{
 "cells": [
  {
   "cell_type": "markdown",
   "metadata": {},
   "source": [
    "# Hypothesis Testing"
   ]
  },
  {
   "cell_type": "code",
   "execution_count": 14,
   "metadata": {},
   "outputs": [],
   "source": [
    "\n",
    "import math\n",
    "\n",
    "import numpy as np\n",
    "import pandas as pd\n",
    "import matplotlib.pyplot as plt\n",
    "from scipy import stats\n",
    "\n",
    "\n",
    "\n",
    "plt.rc('figure', figsize=(16, 9))\n",
    "plt.rc('axes.spines', top=False, right=False)\n",
    "plt.rc('patch', ec='black', force_edgecolor=True)\n",
    "plt.rc('font', size=13)\n",
    "\n",
    "np.random.seed(13)\n",
    "\n"
   ]
  },
  {
   "cell_type": "markdown",
   "metadata": {},
   "source": [
    "\n",
    "## Simulation Based Approach\n",
    "\n",
    "- Example: Codeup starts producing a scratch off lottery ticket called \"Golden Codys\". The odds of winning a prize   must be advertised to the state, and since we are manufacturing the tickets, we know exactly how many winners     and losers there are.\n",
    "   - Theory: Our population is the 1000 tickets we have manufactured\n",
    "   - Implementation: Create a boolean pandas Series\n",
    "       - we model win with true and lose with false\n",
    "       - because of this, we can take the mean of a series to measure the likelihood of winning\n",
    "\n"
   ]
  },
  {
   "cell_type": "code",
   "execution_count": 15,
   "metadata": {},
   "outputs": [
    {
     "name": "stdout",
     "output_type": "stream",
     "text": [
      "The actual probability of winning is 0.25\n"
     ]
    },
    {
     "data": {
      "image/png": "[encoded data removed]",
      "text/plain": [
       "<Figure size 1152x648 with 1 Axes>"
      ]
     },
     "metadata": {
      "needs_background": "light"
     },
     "output_type": "display_data"
    }
   ],
   "source": [
    "tickets = pd.Series([True] * 250 + [False] * 750)\n",
    "tickets.value_counts().set_axis(['Lose', 'Win']).plot.bar()\n",
    "plt.xticks(rotation=0)\n",
    "print('The actual probability of winning is %.2f' % tickets.mean())"
   ]
  },
  {
   "cell_type": "markdown",
   "metadata": {},
   "source": [
    "## Scenario: Each student in a classroom is given a Golden Cody scratch off at random\n",
    "## Theory\n",
    "\n",
    "We we take a random sample and calculate the win rate, we won't expect to see exactly 25% even though we know that is what the overall rate is.\n",
    "\n",
    "Examples of biased samples:\n",
    "\n",
    "   - non-response: people that don't respond are a diff population\n",
    "   - undercoverage: some groups aren't well represented\n",
    "   - voluntary: people volunteer for surveys\n",
    "   - leading questions\n",
    "   - social desirability\n",
    "   \n",
    "- Implementation: Use the .sample method on our series to randomly choose 25 tickets, representing 25 students in a classroom. Use .mean to calculate what percentage of the values are True, or are winning tickets."
   ]
  },
  {
   "cell_type": "code",
   "execution_count": 18,
   "metadata": {},
   "outputs": [
    {
     "data": {
      "text/plain": [
       "0.2"
      ]
     },
     "execution_count": 18,
     "metadata": {},
     "output_type": "execute_result"
    }
   ],
   "source": [
    "n = 25\n",
    "tickets.sample(n).mean()"
   ]
  },
  {
   "cell_type": "markdown",
   "metadata": {},
   "source": [
    "- Scenario: each student in 4 different cohorts is given a Golden Codys scratch off ticket, we want to calculate     the win rate for each classroom.\n",
    "- Theory: it is unlikely any classroom will have exactly a 25% winrate, instead we will see slightly different   \n",
    "  numbers for each classroom.\n",
    "- Implementation: loop through a range of 5 to get a sample and calculate the winrate 5 times. Each of the 5       \n",
    "  numbers produced represents the calculated winrate for one classroom of 25 students."
   ]
  },
  {
   "cell_type": "code",
   "execution_count": 17,
   "metadata": {},
   "outputs": [
    {
     "data": {
      "text/plain": [
       "[0.28, 0.28, 0.08, 0.24, 0.36]"
      ]
     },
     "execution_count": 17,
     "metadata": {},
     "output_type": "execute_result"
    }
   ],
   "source": [
    "[tickets.sample(n).mean() for _ in range(5)]"
   ]
  },
  {
   "cell_type": "markdown",
   "metadata": {},
   "source": [
    "- Theory\n",
    "    \n",
    "    The win rates we see aren't ever exactly 25%, but we would expect the rate to be closer to 25% than further away. That is, it is more likely that a classroom will come up with a win rate of 24% than a winrate of 10%.\n",
    "\n",
    "     If we were to repeat this experiment a whole bunch of times, say 10,000, we would find that the calculated winrates are, in fact, normally distributed.\n",
    "\n",
    "     That is, we would expect the calculated average winrate for a classroom to follow a normal distribution, even though the underlying random process is not based on a normal distribution\n",
    "     \n",
    "     \n",
    "- Implementation: To visualize this, we'll create a series full of calculated winrates for 10,000 classrooms, each classroom made up of 25 students. That is, we will simulate 10,000 classrooms of 25 students getting Golden Codys and calculate the average winrate for each of the 10,000 classrooms."
   ]
  },
  {
   "cell_type": "code",
   "execution_count": 21,
   "metadata": {},
   "outputs": [
    {
     "data": {
      "text/plain": [
       "<matplotlib.axes._subplots.AxesSubplot at 0x7fc572b08850>"
      ]
     },
     "execution_count": 21,
     "metadata": {},
     "output_type": "execute_result"
    },
    {
     "data": {
      "image/png": "[encoded data removed]",
      "text/plain": [
       "<Figure size 1152x648 with 1 Axes>"
      ]
     },
     "metadata": {
      "needs_background": "light"
     },
     "output_type": "display_data"
    }
   ],
   "source": [
    "calculated_winrates = pd.Series([tickets.sample(n).mean() for _ in range(10_000)])\n",
    "calculated_winrates.plot.hist(bins=15)"
   ]
  },
  {
   "cell_type": "markdown",
   "metadata": {},
   "source": [
    "\n",
    "\n",
    "   - Theory\n",
    "\n",
    "    The above visual represents the sampling distribution for the winrate of Golden Codys, based on a class of 25.\n",
    "\n",
    "    The Central Limit Theorm says that sampling distribution will be normally distributed even if the underlying random variable isn't.\n",
    "\n"
   ]
  },
  {
   "cell_type": "markdown",
   "metadata": {},
   "source": [
    "\n",
    "Mini Exercise -- CLT\n",
    "\n",
    "   -- Calculate, theoretically (in your head is fine), the expected value for the average of 6 dice rolls.\n",
    "   -- Write the code necessary to simulate taking the average of 6 dice rolls 10,000 times. Store each of the 10,000 averages in a list.\n",
    "   -- Plot the distribution of the calculated averages. What do you notice about the shape of the distribution of calculated averages? What kind of distribution is the underlying random variable (i.e. one dice roll?)\n",
    "\n",
    "   - Theory: in practice, we won't have 10,000 samples to work with, but rather just 1. We can stil rely on the sampling distribution being normally distributed, and this has some intersting properties.\n",
    "\n",
    "   - the mean of the sampling distribution of the sample means will be the \"true\" mean\n",
    "   - the variance of the sampling distribution is the population variable divided by the sample size\n",
    "   - the standard deviation of the sampling distribution is pqn‾‾‾√ (for our example), aka the standard error"
   ]
  },
  {
   "cell_type": "code",
   "execution_count": 22,
   "metadata": {},
   "outputs": [],
   "source": [
    "se = math.sqrt((.25 * .75) / n)"
   ]
  },
  {
   "cell_type": "markdown",
   "metadata": {},
   "source": [
    "Let's compare our calculated standard error (i.e. the standard deviation of the sample means) to the experimental value:"
   ]
  },
  {
   "cell_type": "code",
   "execution_count": 23,
   "metadata": {},
   "outputs": [
    {
     "name": "stdout",
     "output_type": "stream",
     "text": [
      "SE:                 0.0866\n",
      "sample_means.std(): 0.0857\n"
     ]
    }
   ],
   "source": [
    "print('SE:                 %.4f' % se)\n",
    "print('sample_means.std(): %.4f' % calculated_winrates.std())"
   ]
  },
  {
   "cell_type": "markdown",
   "metadata": {},
   "source": [
    "- That the sampling distribution being normally distributed is very powerful and has important implications:\n",
    "\n",
    "    - confidence intervals for population parameter estimates (e.g. estimating the population mean)\n",
    "\n",
    "       - as n goes up, interval becomes smaller\n",
    "       - as certainty goes up, interval becomes larger\n",
    "       - 99% of calculated CIs will contain the true mean (e.g. if we ran simulations and re-sampled, 99% of the  \n",
    "         simulations' calculated CIs would contain the true mean)\n",
    "    \n",
    "    - hypothesis testing\n",
    "\n",
    "       - One classroom calculates their winrate at 20% and claims the tickets were distributed unfairly. What is \n",
    "         the likelihood we observe a 20% (or smaller) winrate just due to chance?\n"
   ]
  },
  {
   "cell_type": "code",
   "execution_count": 24,
   "metadata": {},
   "outputs": [
    {
     "data": {
      "text/plain": [
       "0.2828582357127216"
      ]
     },
     "execution_count": 24,
     "metadata": {},
     "output_type": "execute_result"
    }
   ],
   "source": [
    "mean = calculated_winrates.mean()\n",
    "sd = calculated_winrates.std()\n",
    "\n",
    "stats.norm(mean, sd).cdf(.2)"
   ]
  },
  {
   "attachments": {
    "image.png": {
     "image/png": "[encoded data removed]"
    }
   },
   "cell_type": "markdown",
   "metadata": {},
   "source": [
    "The probability we've calculated is a p-value. The likelihood that we observe the data that we have if the null hypothesis is true.\n",
    "\n",
    "## Null and Alternative Hypothesis\n",
    "\n",
    "- H0: status quo: no difference or no effect\n",
    "- Ha: alternative: there is a difference or effect\n",
    "- whether Ha is ≠, <, >, determines one-tailed vs two-tailed test\n",
    "  - < or > == one-tailed\n",
    "  - ≠ == two-tailed\n",
    "  \n",
    "### Hypothesis Testing Results\n",
    "\n",
    "![image.png](attachment:image.png)"
   ]
  },
  {
   "cell_type": "markdown",
   "metadata": {},
   "source": [
    "# Null Hypothesis Questions"
   ]
  },
  {
   "cell_type": "markdown",
   "metadata": {},
   "source": [
    "## 1. Has the network latency gone up since we switched internet service providers?\n",
    "  "
   ]
  },
  {
   "cell_type": "code",
   "execution_count": 1,
   "metadata": {},
   "outputs": [
    {
     "data": {
      "text/plain": [
       "'\\nWhen latency was tested a p-value greater than our significance level (0.05) was identified.\\n(i.e. evidence enough to support the null) but we rejected the null hypothesis.\\n'"
      ]
     },
     "execution_count": 1,
     "metadata": {},
     "output_type": "execute_result"
    }
   ],
   "source": [
    "# null hypothesis \n",
    "\"\"\"\n",
    "There is no statistically significant difference in network latency time between service providers. \n",
    "\"\"\"\n",
    "# alternate hypothesis\n",
    "\"\"\"\n",
    "There is a statistically significant difference in network latency time between service providers.\n",
    "\"\"\"\n",
    "# true positive (REJECT the null, and the null is FALSE)\n",
    "\"\"\"\n",
    "When latency was tested a p-value lower than our significance level (0.05) was identified.\n",
    "(i.e. evidence enough to support the alternative) so and must reject the null hypothesis. \n",
    "\"\"\"\n",
    "# true negative (ACCEPT the null, and the null is TRUE)\n",
    "\"\"\"\n",
    "When latency was tested a p-value greater than our significance level (0.05) was identified.\n",
    "(i.e. evidence enough to support the null) so we fail to reject the null hypothesis.\n",
    "\"\"\"\n",
    "# type I error (REJECT the null hypothesis, but, in reality, the null hypothesis is TRUE)\n",
    "\"\"\"\n",
    "When latency was tested a p-value lower than our significance level (0.05) was identified.\n",
    "(i.e. evidence enough to support the alternative) but we failed reject the null hypothesis. \n",
    "\"\"\"\n",
    "# type II error (ACCEPT the null hypothesis when it is actually FALSE.)\n",
    "\"\"\"\n",
    "When latency was tested a p-value greater than our significance level (0.05) was identified.\n",
    "(i.e. evidence enough to support the null) but we rejected the null hypothesis.\n",
    "\"\"\""
   ]
  },
  {
   "cell_type": "markdown",
   "metadata": {},
   "source": [
    "## 2. Is the website redesign any good?\n",
    "   "
   ]
  },
  {
   "cell_type": "code",
   "execution_count": 2,
   "metadata": {},
   "outputs": [
    {
     "data": {
      "text/plain": [
       "'\\nWhen quantifiable differences were tested a p-value greater than our significance level (0.05) was identified.\\n(i.e. evidence enough to support the null) but we rejected the null hypothesis.\\n'"
      ]
     },
     "execution_count": 2,
     "metadata": {},
     "output_type": "execute_result"
    }
   ],
   "source": [
    "# null hypothesis\n",
    "\"\"\"\n",
    "There is no statistically significant quantifiable difference between the old and new design.\n",
    "\"\"\"\n",
    "# alternate hypothesis\n",
    "\"\"\"\n",
    "There is a statistically significant quantifiable difference between the old and new design.\n",
    "\"\"\"\n",
    "# true positive\n",
    "\"\"\"\n",
    "When quantifiable differences were tested a p-value lower than our significance level (0.05) was identified.\n",
    "(i.e. evidence enough to support the alternative) so and must reject the null hypothesis.\n",
    "\"\"\"\n",
    "# true negative\n",
    "\"\"\"\n",
    "When quantifiable differences were tested a p-value greater than our significance level (0.05) was identified.\n",
    "(i.e. evidence enough to support the null) so we fail to reject the null hypothesis.\n",
    "\"\"\"\n",
    "# type I error\n",
    "\"\"\"\n",
    "When quantifiable differences were tested a p-value lower than our significance level (0.05) was identified.\n",
    "(i.e. evidence enough to support the alternative) but we failed reject the null hypothesis.\n",
    "\"\"\"\n",
    "# type II error\n",
    "\"\"\"\n",
    "When quantifiable differences were tested a p-value greater than our significance level (0.05) was identified.\n",
    "(i.e. evidence enough to support the null) but we rejected the null hypothesis.\n",
    "\"\"\""
   ]
  },
  {
   "cell_type": "markdown",
   "metadata": {},
   "source": [
    "## 3.   Is our television ad driving more sales?"
   ]
  },
  {
   "cell_type": "code",
   "execution_count": 3,
   "metadata": {},
   "outputs": [
    {
     "data": {
      "text/plain": [
       "'\\nWhen sales were examined a p-value greater than our significance level (0.05) was identified.\\n(i.e. evidence enough to support the null) but we rejected the null hypothesis.\\n'"
      ]
     },
     "execution_count": 3,
     "metadata": {},
     "output_type": "execute_result"
    }
   ],
   "source": [
    "# null hypothesis\n",
    "\"\"\"\n",
    "The ad has not had a statistically significant impact on sales\n",
    "\"\"\"\n",
    "# alternate hypothesis\n",
    "\"\"\"\n",
    "The ad has provided a statistically significant impact on sales\n",
    "\"\"\"\n",
    "# true positive\n",
    "\"\"\"\n",
    "When sales were examined a p-value lower than our significance level (0.05) was identified.\n",
    "(i.e. evidence enough to support the alternative) so and must reject the null hypothesis.\n",
    "\"\"\"\n",
    "# true negative\n",
    "\"\"\"\n",
    "When sales were examined a p-value greater than our significance level (0.05) was identified.\n",
    "(i.e. evidence enough to support the null) so we fail to reject the null hypothesis.\n",
    "\"\"\"\n",
    "# type I error\n",
    "\"\"\"\n",
    "When sales were examined a p-value lower than our significance level (0.05) was identified.\n",
    "(i.e. evidence enough to support the alternative) but we failed reject the null hypothesis.\n",
    "\"\"\"\n",
    "# type II error\n",
    "\"\"\"\n",
    "When sales were examined a p-value greater than our significance level (0.05) was identified.\n",
    "(i.e. evidence enough to support the null) but we rejected the null hypothesis.\n",
    "\"\"\""
   ]
  },
  {
   "cell_type": "markdown",
   "metadata": {},
   "source": [
    "# T-Test Problems"
   ]
  },
  {
   "cell_type": "code",
   "execution_count": 4,
   "metadata": {},
   "outputs": [],
   "source": [
    "from math import sqrt\n",
    "from scipy import stats\n",
    "\n",
    "%matplotlib inline\n",
    "import matplotlib.pyplot as plt\n",
    "import numpy as np\n",
    "import pandas as pd\n",
    "from pydataset import data"
   ]
  },
  {
   "cell_type": "markdown",
   "metadata": {},
   "source": [
    "## 1. Ace Realty wants to determine whether the average time it takes to sell homes is different for its two offices.\n",
    " - A sample of 40 sales from office #1 revealed a mean of 90 days and a standard deviation of 15 days. \n",
    " \n",
    " - A sample of 50 sales from office #2 revealed a mean of 100 days and a standard deviation of 20 days. Use a .05 level of significance."
   ]
  },
  {
   "cell_type": "code",
   "execution_count": 5,
   "metadata": {},
   "outputs": [
    {
     "name": "stdout",
     "output_type": "stream",
     "text": [
      "t = -2.62523\n",
      "p = 1.98979\n"
     ]
    }
   ],
   "source": [
    "# x1 = office #1\n",
    "# x2 = office #2\n",
    "\n",
    "# Mean\n",
    "xbar1 = 90\n",
    "xbar2 = 100\n",
    "\n",
    "#Sales\n",
    "n1 = 40\n",
    "n2 = 50\n",
    "\n",
    "#Standard Deviation\n",
    "s1 = 15\n",
    "s2 = 20\n",
    "\n",
    "degf = n1 + n2 - 2\n",
    "\n",
    "s_p = sqrt(((n1 - 1) * s1**2 + (n2 - 1) * s2**2) / (n1 + n2 - 2))\n",
    "s_p\n",
    "\n",
    "standard_error = se = sqrt(s1**2 / n1 + s2**2 / n2)\n",
    "\n",
    "t = (xbar1 - xbar2) / (s_p * sqrt(1/n1 + 1/n2))\n",
    "t\n",
    "\n",
    "p = stats.t(degf).sf(t) * 2\n",
    "\n",
    "print(f't = {t:.5f}')\n",
    "print(f'p = {p:.5f}')\n"
   ]
  },
  {
   "cell_type": "code",
   "execution_count": 6,
   "metadata": {},
   "outputs": [
    {
     "data": {
      "text/plain": [
       "'\\nP value is greater than 0.05 so we fail to reject the null:\\n\\nNo statistically significant difference between offices\\n'"
      ]
     },
     "execution_count": 6,
     "metadata": {},
     "output_type": "execute_result"
    }
   ],
   "source": [
    "\"\"\"\n",
    "P value is greater than 0.05 so we fail to reject the null:\n",
    "\n",
    "No statistically significant difference between offices\n",
    "\"\"\""
   ]
  },
  {
   "cell_type": "markdown",
   "metadata": {},
   "source": [
    "## 2. Load the mpg dataset and use it to answer the following questions:\n",
    "\n",
    "   - Is there a difference in fuel-efficiency in cars from 2008 vs 1999?\n",
    "   - Are compact cars more fuel-efficient than the average car?\n",
    "   - Do manual cars get better gas mileage than automatic cars?"
   ]
  },
  {
   "cell_type": "code",
   "execution_count": 7,
   "metadata": {},
   "outputs": [],
   "source": [
    "mpg = data('mpg')\n",
    "mpg_data = pd.DataFrame(mpg)\n",
    "mpg_data['average_mileage'] = (mpg_data.cty + mpg_data.hwy) / 2"
   ]
  },
  {
   "cell_type": "code",
   "execution_count": 8,
   "metadata": {},
   "outputs": [],
   "source": [
    "bool_series = mpg.year == 2008\n",
    "oh_eight = mpg[bool_series]"
   ]
  },
  {
   "cell_type": "code",
   "execution_count": 9,
   "metadata": {},
   "outputs": [],
   "source": [
    "bool_series = mpg.year == 1999\n",
    "nine_nine = mpg[bool_series]"
   ]
  },
  {
   "cell_type": "code",
   "execution_count": 10,
   "metadata": {},
   "outputs": [
    {
     "data": {
      "text/plain": [
       "Ttest_indResult(statistic=-0.21960177245940962, pvalue=0.8263744040323578)"
      ]
     },
     "execution_count": 10,
     "metadata": {},
     "output_type": "execute_result"
    }
   ],
   "source": [
    "#Is there a difference in fuel-efficiency in cars from 2008 vs 1999?\n",
    "\n",
    "x1 = oh_eight.average_mileage\n",
    "x2 = nine_nine.average_mileage\n",
    "\n",
    "xbar1 = x1.mean()\n",
    "xbar2 = x2.mean()\n",
    "\n",
    "n1 = x1.shape[0]\n",
    "n2 = x2.shape[0]\n",
    "\n",
    "s1 = x1.std()\n",
    "s2 = x2.std()\n",
    "\n",
    "degf = n1 + n2 - 2\n",
    "\n",
    "s_p = sqrt(((n1 - 1) * s1**2 + (n2 - 1) * s2**2) / (n1 + n2 - 2))\n",
    "s_p\n",
    "\n",
    "standard_error = se = sqrt(s1**2 / n1 + s2**2 / n2)\n",
    "\n",
    "t = (xbar1 - xbar2) / (s_p * sqrt(1/n1 + 1/n2))\n",
    "t\n",
    "\n",
    "p = stats.t(degf).sf(t) * 2\n",
    "\n",
    "stats.ttest_ind(x1, x2)"
   ]
  },
  {
   "cell_type": "code",
   "execution_count": 11,
   "metadata": {},
   "outputs": [
    {
     "data": {
      "text/plain": [
       "'\\nP value is greater than 0.05 so we fail to reject the null:\\n\\nNo statistically significant difference between fuel economy\\n'"
      ]
     },
     "execution_count": 11,
     "metadata": {},
     "output_type": "execute_result"
    }
   ],
   "source": [
    "\"\"\"\n",
    "P value is greater than 0.05 so we fail to reject the null:\n",
    "\n",
    "No statistically significant difference between fuel economy\n",
    "\"\"\""
   ]
  },
  {
   "cell_type": "markdown",
   "metadata": {},
   "source": [
    "# Correlation Problems"
   ]
  },
  {
   "cell_type": "markdown",
   "metadata": {},
   "source": [
    " ## 1. Use the telco_churn data. Does tenure correlate with monthly charges? Total charges? What happens if you control for phone and internet service?\n",
    " "
   ]
  },
  {
   "cell_type": "code",
   "execution_count": 13,
   "metadata": {},
   "outputs": [
    {
     "data": {
      "text/html": [
       "<div>\n",
       "<style scoped>\n",
       "    .dataframe tbody tr th:only-of-type {\n",
       "        vertical-align: middle;\n",
       "    }\n",
       "\n",
       "    .dataframe tbody tr th {\n",
       "        vertical-align: top;\n",
       "    }\n",
       "\n",
       "    .dataframe thead th {\n",
       "        text-align: right;\n",
       "    }\n",
       "</style>\n",
       "<table border=\"1\" class=\"dataframe\">\n",
       "  <thead>\n",
       "    <tr style=\"text-align: right;\">\n",
       "      <th></th>\n",
       "      <th>customer_id</th>\n",
       "      <th>gender</th>\n",
       "      <th>is_senior_citizen</th>\n",
       "      <th>partner</th>\n",
       "      <th>dependents</th>\n",
       "      <th>phone_service</th>\n",
       "      <th>internet_service</th>\n",
       "      <th>contract_type</th>\n",
       "      <th>payment_type</th>\n",
       "      <th>monthly_charges</th>\n",
       "      <th>...</th>\n",
       "      <th>has_phone</th>\n",
       "      <th>has_internet</th>\n",
       "      <th>has_phone_and_internet</th>\n",
       "      <th>partner_dependents</th>\n",
       "      <th>start_date</th>\n",
       "      <th>average_monthly_charges</th>\n",
       "      <th>contract_details</th>\n",
       "      <th>phone_service_details</th>\n",
       "      <th>internet_details</th>\n",
       "      <th>product_key</th>\n",
       "    </tr>\n",
       "  </thead>\n",
       "  <tbody>\n",
       "    <tr>\n",
       "      <th>0</th>\n",
       "      <td>2923-ARZLG</td>\n",
       "      <td>Male</td>\n",
       "      <td>0</td>\n",
       "      <td>Yes</td>\n",
       "      <td>Yes</td>\n",
       "      <td>1</td>\n",
       "      <td>0</td>\n",
       "      <td>1</td>\n",
       "      <td>Mailed check</td>\n",
       "      <td>$19.70</td>\n",
       "      <td>...</td>\n",
       "      <td>True</td>\n",
       "      <td>False</td>\n",
       "      <td>False</td>\n",
       "      <td>3</td>\n",
       "      <td>2020-08-27</td>\n",
       "      <td>#DIV/0!</td>\n",
       "      <td>1 Year</td>\n",
       "      <td>One Line</td>\n",
       "      <td>No Internet Service</td>\n",
       "      <td>1</td>\n",
       "    </tr>\n",
       "    <tr>\n",
       "      <th>1</th>\n",
       "      <td>2775-SEFEE</td>\n",
       "      <td>Male</td>\n",
       "      <td>0</td>\n",
       "      <td>No</td>\n",
       "      <td>Yes</td>\n",
       "      <td>2</td>\n",
       "      <td>1</td>\n",
       "      <td>2</td>\n",
       "      <td>Bank transfer (automatic)</td>\n",
       "      <td>$61.90</td>\n",
       "      <td>...</td>\n",
       "      <td>True</td>\n",
       "      <td>True</td>\n",
       "      <td>True</td>\n",
       "      <td>2</td>\n",
       "      <td>2020-08-27</td>\n",
       "      <td>#DIV/0!</td>\n",
       "      <td>2 Year</td>\n",
       "      <td>Two or More Lines</td>\n",
       "      <td>DSL</td>\n",
       "      <td>1</td>\n",
       "    </tr>\n",
       "    <tr>\n",
       "      <th>2</th>\n",
       "      <td>3115-CZMZD</td>\n",
       "      <td>Male</td>\n",
       "      <td>0</td>\n",
       "      <td>No</td>\n",
       "      <td>Yes</td>\n",
       "      <td>1</td>\n",
       "      <td>0</td>\n",
       "      <td>2</td>\n",
       "      <td>Mailed check</td>\n",
       "      <td>$20.25</td>\n",
       "      <td>...</td>\n",
       "      <td>True</td>\n",
       "      <td>False</td>\n",
       "      <td>False</td>\n",
       "      <td>2</td>\n",
       "      <td>2020-08-27</td>\n",
       "      <td>#DIV/0!</td>\n",
       "      <td>2 Year</td>\n",
       "      <td>One Line</td>\n",
       "      <td>No Internet Service</td>\n",
       "      <td>1</td>\n",
       "    </tr>\n",
       "    <tr>\n",
       "      <th>3</th>\n",
       "      <td>3213-VVOLG</td>\n",
       "      <td>Male</td>\n",
       "      <td>0</td>\n",
       "      <td>Yes</td>\n",
       "      <td>Yes</td>\n",
       "      <td>2</td>\n",
       "      <td>0</td>\n",
       "      <td>2</td>\n",
       "      <td>Mailed check</td>\n",
       "      <td>$25.35</td>\n",
       "      <td>...</td>\n",
       "      <td>True</td>\n",
       "      <td>False</td>\n",
       "      <td>False</td>\n",
       "      <td>3</td>\n",
       "      <td>2020-08-27</td>\n",
       "      <td>#DIV/0!</td>\n",
       "      <td>2 Year</td>\n",
       "      <td>Two or More Lines</td>\n",
       "      <td>No Internet Service</td>\n",
       "      <td>1</td>\n",
       "    </tr>\n",
       "    <tr>\n",
       "      <th>4</th>\n",
       "      <td>4367-NUYAO</td>\n",
       "      <td>Male</td>\n",
       "      <td>0</td>\n",
       "      <td>Yes</td>\n",
       "      <td>Yes</td>\n",
       "      <td>2</td>\n",
       "      <td>0</td>\n",
       "      <td>2</td>\n",
       "      <td>Mailed check</td>\n",
       "      <td>$25.75</td>\n",
       "      <td>...</td>\n",
       "      <td>True</td>\n",
       "      <td>False</td>\n",
       "      <td>False</td>\n",
       "      <td>3</td>\n",
       "      <td>2020-08-27</td>\n",
       "      <td>#DIV/0!</td>\n",
       "      <td>2 Year</td>\n",
       "      <td>Two or More Lines</td>\n",
       "      <td>No Internet Service</td>\n",
       "      <td>1</td>\n",
       "    </tr>\n",
       "    <tr>\n",
       "      <th>...</th>\n",
       "      <td>...</td>\n",
       "      <td>...</td>\n",
       "      <td>...</td>\n",
       "      <td>...</td>\n",
       "      <td>...</td>\n",
       "      <td>...</td>\n",
       "      <td>...</td>\n",
       "      <td>...</td>\n",
       "      <td>...</td>\n",
       "      <td>...</td>\n",
       "      <td>...</td>\n",
       "      <td>...</td>\n",
       "      <td>...</td>\n",
       "      <td>...</td>\n",
       "      <td>...</td>\n",
       "      <td>...</td>\n",
       "      <td>...</td>\n",
       "      <td>...</td>\n",
       "      <td>...</td>\n",
       "      <td>...</td>\n",
       "      <td>...</td>\n",
       "    </tr>\n",
       "    <tr>\n",
       "      <th>7038</th>\n",
       "      <td>7083-MIOPC</td>\n",
       "      <td>Female</td>\n",
       "      <td>0</td>\n",
       "      <td>No</td>\n",
       "      <td>No</td>\n",
       "      <td>1</td>\n",
       "      <td>0</td>\n",
       "      <td>2</td>\n",
       "      <td>Credit card (automatic)</td>\n",
       "      <td>$20.25</td>\n",
       "      <td>...</td>\n",
       "      <td>True</td>\n",
       "      <td>False</td>\n",
       "      <td>False</td>\n",
       "      <td>0</td>\n",
       "      <td>2014-03-27</td>\n",
       "      <td>$20.35</td>\n",
       "      <td>2 Year</td>\n",
       "      <td>One Line</td>\n",
       "      <td>No Internet Service</td>\n",
       "      <td>1</td>\n",
       "    </tr>\n",
       "    <tr>\n",
       "      <th>7039</th>\n",
       "      <td>8207-VVMYB</td>\n",
       "      <td>Female</td>\n",
       "      <td>0</td>\n",
       "      <td>Yes</td>\n",
       "      <td>No</td>\n",
       "      <td>2</td>\n",
       "      <td>0</td>\n",
       "      <td>2</td>\n",
       "      <td>Bank transfer (automatic)</td>\n",
       "      <td>$26.00</td>\n",
       "      <td>...</td>\n",
       "      <td>True</td>\n",
       "      <td>False</td>\n",
       "      <td>False</td>\n",
       "      <td>1</td>\n",
       "      <td>2014-03-27</td>\n",
       "      <td>$26.06</td>\n",
       "      <td>2 Year</td>\n",
       "      <td>Two or More Lines</td>\n",
       "      <td>No Internet Service</td>\n",
       "      <td>1</td>\n",
       "    </tr>\n",
       "    <tr>\n",
       "      <th>7040</th>\n",
       "      <td>6010-DDPPW</td>\n",
       "      <td>Male</td>\n",
       "      <td>0</td>\n",
       "      <td>Yes</td>\n",
       "      <td>No</td>\n",
       "      <td>2</td>\n",
       "      <td>0</td>\n",
       "      <td>2</td>\n",
       "      <td>Bank transfer (automatic)</td>\n",
       "      <td>$25.15</td>\n",
       "      <td>...</td>\n",
       "      <td>True</td>\n",
       "      <td>False</td>\n",
       "      <td>False</td>\n",
       "      <td>1</td>\n",
       "      <td>2014-03-27</td>\n",
       "      <td>$25.21</td>\n",
       "      <td>2 Year</td>\n",
       "      <td>Two or More Lines</td>\n",
       "      <td>No Internet Service</td>\n",
       "      <td>1</td>\n",
       "    </tr>\n",
       "    <tr>\n",
       "      <th>7041</th>\n",
       "      <td>3910-MRQOY</td>\n",
       "      <td>Female</td>\n",
       "      <td>0</td>\n",
       "      <td>Yes</td>\n",
       "      <td>No</td>\n",
       "      <td>1</td>\n",
       "      <td>0</td>\n",
       "      <td>2</td>\n",
       "      <td>Bank transfer (automatic)</td>\n",
       "      <td>$19.40</td>\n",
       "      <td>...</td>\n",
       "      <td>True</td>\n",
       "      <td>False</td>\n",
       "      <td>False</td>\n",
       "      <td>1</td>\n",
       "      <td>2014-03-27</td>\n",
       "      <td>$19.43</td>\n",
       "      <td>2 Year</td>\n",
       "      <td>One Line</td>\n",
       "      <td>No Internet Service</td>\n",
       "      <td>1</td>\n",
       "    </tr>\n",
       "    <tr>\n",
       "      <th>7042</th>\n",
       "      <td>5893-KCLGT</td>\n",
       "      <td>Female</td>\n",
       "      <td>0</td>\n",
       "      <td>No</td>\n",
       "      <td>Yes</td>\n",
       "      <td>1</td>\n",
       "      <td>0</td>\n",
       "      <td>2</td>\n",
       "      <td>Mailed check</td>\n",
       "      <td>$19.75</td>\n",
       "      <td>...</td>\n",
       "      <td>True</td>\n",
       "      <td>False</td>\n",
       "      <td>False</td>\n",
       "      <td>2</td>\n",
       "      <td>2014-01-27</td>\n",
       "      <td>$19.84</td>\n",
       "      <td>2 Year</td>\n",
       "      <td>One Line</td>\n",
       "      <td>No Internet Service</td>\n",
       "      <td>1</td>\n",
       "    </tr>\n",
       "  </tbody>\n",
       "</table>\n",
       "<p>7043 rows × 25 columns</p>\n",
       "</div>"
      ],
      "text/plain": [
       "     customer_id  gender  is_senior_citizen partner dependents  phone_service  \\\n",
       "0     2923-ARZLG    Male                  0     Yes        Yes              1   \n",
       "1     2775-SEFEE    Male                  0      No        Yes              2   \n",
       "2     3115-CZMZD    Male                  0      No        Yes              1   \n",
       "3     3213-VVOLG    Male                  0     Yes        Yes              2   \n",
       "4     4367-NUYAO    Male                  0     Yes        Yes              2   \n",
       "...          ...     ...                ...     ...        ...            ...   \n",
       "7038  7083-MIOPC  Female                  0      No         No              1   \n",
       "7039  8207-VVMYB  Female                  0     Yes         No              2   \n",
       "7040  6010-DDPPW    Male                  0     Yes         No              2   \n",
       "7041  3910-MRQOY  Female                  0     Yes         No              1   \n",
       "7042  5893-KCLGT  Female                  0      No        Yes              1   \n",
       "\n",
       "      internet_service  contract_type               payment_type  \\\n",
       "0                    0              1               Mailed check   \n",
       "1                    1              2  Bank transfer (automatic)   \n",
       "2                    0              2               Mailed check   \n",
       "3                    0              2               Mailed check   \n",
       "4                    0              2               Mailed check   \n",
       "...                ...            ...                        ...   \n",
       "7038                 0              2    Credit card (automatic)   \n",
       "7039                 0              2  Bank transfer (automatic)   \n",
       "7040                 0              2  Bank transfer (automatic)   \n",
       "7041                 0              2  Bank transfer (automatic)   \n",
       "7042                 0              2               Mailed check   \n",
       "\n",
       "     monthly_charges  ... has_phone has_internet  has_phone_and_internet  \\\n",
       "0             $19.70  ...      True        False                   False   \n",
       "1             $61.90  ...      True         True                    True   \n",
       "2             $20.25  ...      True        False                   False   \n",
       "3             $25.35  ...      True        False                   False   \n",
       "4             $25.75  ...      True        False                   False   \n",
       "...              ...  ...       ...          ...                     ...   \n",
       "7038          $20.25  ...      True        False                   False   \n",
       "7039          $26.00  ...      True        False                   False   \n",
       "7040          $25.15  ...      True        False                   False   \n",
       "7041          $19.40  ...      True        False                   False   \n",
       "7042          $19.75  ...      True        False                   False   \n",
       "\n",
       "      partner_dependents  start_date  average_monthly_charges  \\\n",
       "0                      3  2020-08-27                  #DIV/0!   \n",
       "1                      2  2020-08-27                  #DIV/0!   \n",
       "2                      2  2020-08-27                  #DIV/0!   \n",
       "3                      3  2020-08-27                  #DIV/0!   \n",
       "4                      3  2020-08-27                  #DIV/0!   \n",
       "...                  ...         ...                      ...   \n",
       "7038                   0  2014-03-27                   $20.35   \n",
       "7039                   1  2014-03-27                   $26.06   \n",
       "7040                   1  2014-03-27                   $25.21   \n",
       "7041                   1  2014-03-27                   $19.43   \n",
       "7042                   2  2014-01-27                   $19.84   \n",
       "\n",
       "      contract_details  phone_service_details     internet_details product_key  \n",
       "0               1 Year               One Line  No Internet Service           1  \n",
       "1               2 Year      Two or More Lines                  DSL           1  \n",
       "2               2 Year               One Line  No Internet Service           1  \n",
       "3               2 Year      Two or More Lines  No Internet Service           1  \n",
       "4               2 Year      Two or More Lines  No Internet Service           1  \n",
       "...                ...                    ...                  ...         ...  \n",
       "7038            2 Year               One Line  No Internet Service           1  \n",
       "7039            2 Year      Two or More Lines  No Internet Service           1  \n",
       "7040            2 Year      Two or More Lines  No Internet Service           1  \n",
       "7041            2 Year               One Line  No Internet Service           1  \n",
       "7042            2 Year               One Line  No Internet Service           1  \n",
       "\n",
       "[7043 rows x 25 columns]"
      ]
     },
     "execution_count": 13,
     "metadata": {},
     "output_type": "execute_result"
    }
   ],
   "source": [
    "telco = pd.read_csv(\"telco_data.csv\")\n",
    "telco"
   ]
  },
  {
   "cell_type": "code",
   "execution_count": 43,
   "metadata": {},
   "outputs": [],
   "source": [
    "telco_s = telco.monthly_charges.str.strip('$')\n",
    "telco_s = telco_s.astype(float)"
   ]
  },
  {
   "cell_type": "code",
   "execution_count": 30,
   "metadata": {},
   "outputs": [],
   "source": [
    "n = telco.shape[0]     # number of observations\n",
    "degf = n - 2        # degrees of freedom: the # of values in the final calculation of a statistic that are free to vary.\n",
    "conf_interval = .95 # desired confidence interval\n",
    "α = 1 - conf_interval"
   ]
  },
  {
   "cell_type": "code",
   "execution_count": 44,
   "metadata": {},
   "outputs": [
    {
     "data": {
      "text/plain": [
       "0.24717630422486614"
      ]
     },
     "execution_count": 44,
     "metadata": {},
     "output_type": "execute_result"
    }
   ],
   "source": [
    "#Does tenure correlate with monthly charges?\n",
    "\"\"\"\n",
    "H0: There is no significantly significant correlation between tenure and monthly charges\n",
    "\"\"\"\n",
    "x = telco_s\n",
    "y = telco.monthly_tenure\n",
    "\n",
    "def stdev(x):\n",
    "    variance = ((x - x.mean()) ** 2).sum() / n\n",
    "    return sqrt(variance)\n",
    "\n",
    "r_xy = (((x - x.mean()) * (y - y.mean())).sum() / n) / (stdev(x) * stdev(y))\n",
    "r_xy"
   ]
  },
  {
   "cell_type": "code",
   "execution_count": 45,
   "metadata": {},
   "outputs": [
    {
     "data": {
      "text/plain": [
       "21.40491171417203"
      ]
     },
     "execution_count": 45,
     "metadata": {},
     "output_type": "execute_result"
    }
   ],
   "source": [
    "t = (r_xy * sqrt(n - 2)) / sqrt(1 - r_xy**2)\n",
    "t"
   ]
  },
  {
   "cell_type": "code",
   "execution_count": 46,
   "metadata": {},
   "outputs": [
    {
     "data": {
      "text/plain": [
       "1.5734423697891632e-98"
      ]
     },
     "execution_count": 46,
     "metadata": {},
     "output_type": "execute_result"
    }
   ],
   "source": [
    "p = stats.t.sf(t, df=degf) * 2 # *2 for a two-tailed test\n",
    "p"
   ]
  },
  {
   "cell_type": "code",
   "execution_count": 47,
   "metadata": {},
   "outputs": [
    {
     "data": {
      "text/plain": [
       "True"
      ]
     },
     "execution_count": 47,
     "metadata": {},
     "output_type": "execute_result"
    }
   ],
   "source": [
    "p < α"
   ]
  },
  {
   "cell_type": "code",
   "execution_count": 48,
   "metadata": {},
   "outputs": [
    {
     "data": {
      "text/plain": [
       "(0.2471763042248662, 1.5734423697905542e-98)"
      ]
     },
     "execution_count": 48,
     "metadata": {},
     "output_type": "execute_result"
    }
   ],
   "source": [
    "corr, p = stats.pearsonr(x, y)\n",
    "corr, p"
   ]
  },
  {
   "cell_type": "markdown",
   "metadata": {},
   "source": [
    "## P-value is less than alpha, must reject the null (no significant correlation between tenure and monthly charge)"
   ]
  },
  {
   "cell_type": "code",
   "execution_count": 117,
   "metadata": {},
   "outputs": [
    {
     "data": {
      "text/plain": [
       "0          0.00\n",
       "1          0.00\n",
       "2          0.00\n",
       "3          0.00\n",
       "4          0.00\n",
       "         ...   \n",
       "7038    1566.90\n",
       "7039    2006.95\n",
       "7040    1940.85\n",
       "7041    1496.45\n",
       "7042    1567.00\n",
       "Name: total_charges, Length: 7043, dtype: float64"
      ]
     },
     "execution_count": 117,
     "metadata": {},
     "output_type": "execute_result"
    }
   ],
   "source": [
    "# Does tenure correlate with total charges? \n",
    "\"\"\"\n",
    "H0: There is no statistically significant correlation between tenure and total charges.\n",
    "\"\"\"\n",
    "telco\n",
    "telco_m = telco.total_charges.str.replace('$', '').str.replace(',', '')\n",
    "telco_m = telco_m.astype(float)\n",
    "telco_m = telco_m.fillna(0)\n",
    "telco_m"
   ]
  },
  {
   "cell_type": "code",
   "execution_count": 121,
   "metadata": {},
   "outputs": [
    {
     "data": {
      "text/plain": [
       "True"
      ]
     },
     "execution_count": 121,
     "metadata": {},
     "output_type": "execute_result"
    }
   ],
   "source": [
    "n = telco_m.shape[0]     # number of observations\n",
    "degf = n - 2        # degrees of freedom: the # of values in the final calculation of a statistic that are free to vary.\n",
    "conf_interval = .95 # desired confidence interval\n",
    "α = 1 - conf_interval\n",
    "\n",
    "x = telco_m\n",
    "y = telco.monthly_tenure\n",
    "\n",
    "def stdev(x):\n",
    "    variance = ((x - x.mean()) ** 2).sum() / n\n",
    "    return sqrt(variance)\n",
    "\n",
    "r_xy = (((x - x.mean()) * (y - y.mean())).sum() / n) / (stdev(x) * stdev(y))\n",
    "r_xy\n",
    "\n",
    "t = (r_xy * sqrt(n - 2)) / sqrt(1 - r_xy**2)\n",
    "t\n",
    "\n",
    "p = stats.t.sf(t, df=degf) * 2 # *2 for a two-tailed test\n",
    "p\n",
    "\n",
    "p < α"
   ]
  },
  {
   "cell_type": "code",
   "execution_count": 122,
   "metadata": {},
   "outputs": [
    {
     "data": {
      "text/plain": [
       "(0.8264282488469844, 0.0)"
      ]
     },
     "execution_count": 122,
     "metadata": {},
     "output_type": "execute_result"
    }
   ],
   "source": [
    "corr, p = stats.pearsonr(x, y)\n",
    "corr, p"
   ]
  },
  {
   "cell_type": "markdown",
   "metadata": {},
   "source": [
    "## P-value is less than alpha, must reject the null (no significant correlation between tenure and total charges)"
   ]
  },
  {
   "cell_type": "code",
   "execution_count": 151,
   "metadata": {},
   "outputs": [
    {
     "data": {
      "text/plain": [
       "0       19.70\n",
       "1       61.90\n",
       "2       20.25\n",
       "3       25.35\n",
       "4       25.75\n",
       "        ...  \n",
       "7038    20.25\n",
       "7039    26.00\n",
       "7040    25.15\n",
       "7041    19.40\n",
       "7042    19.75\n",
       "Name: monthly_charges, Length: 6361, dtype: float64"
      ]
     },
     "execution_count": 151,
     "metadata": {},
     "output_type": "execute_result"
    }
   ],
   "source": [
    "#Does tenure correlate with monthly charges for phone service?\n",
    "\"\"\"\n",
    "H0: There is no significantly significant correlation between tenure and monthly charges for phone service\n",
    "\"\"\"\n",
    "# First must make boolean mask for phone service and monthly charges\n",
    "\n",
    "bool_series = telco.has_phone == True\n",
    "bool_series\n",
    "yes_phone = telco[bool_series]\n",
    "yes_phone\n",
    "telco_monthly = yes_phone.monthly_charges.str.strip('$')\n",
    "telco_monthly = telco_monthly.astype(float)\n",
    "telco_monthly\n"
   ]
  },
  {
   "cell_type": "code",
   "execution_count": 153,
   "metadata": {},
   "outputs": [
    {
     "data": {
      "text/plain": [
       "0        0\n",
       "1        0\n",
       "2        0\n",
       "3        0\n",
       "4        0\n",
       "        ..\n",
       "7038    77\n",
       "7039    77\n",
       "7040    77\n",
       "7041    77\n",
       "7042    79\n",
       "Name: monthly_tenure, Length: 6361, dtype: int64"
      ]
     },
     "execution_count": 153,
     "metadata": {},
     "output_type": "execute_result"
    }
   ],
   "source": [
    "# Now make boolean mask for phone service and tenure\n",
    "\n",
    "bool_series = telco.has_phone == True\n",
    "bool_series\n",
    "yes_phone = telco[bool_series]\n",
    "yes_phone\n",
    "telco_tenure = yes_phone.monthly_tenure\n",
    "telco_tenure\n"
   ]
  },
  {
   "cell_type": "code",
   "execution_count": 154,
   "metadata": {},
   "outputs": [
    {
     "data": {
      "text/plain": [
       "True"
      ]
     },
     "execution_count": 154,
     "metadata": {},
     "output_type": "execute_result"
    }
   ],
   "source": [
    "x = telco_monthly\n",
    "y = telco_tenure\n",
    "\n",
    "def stdev(x):\n",
    "    variance = ((x - x.mean()) ** 2).sum() / n\n",
    "    return sqrt(variance)\n",
    "\n",
    "r_xy = (((x - x.mean()) * (y - y.mean())).sum() / n) / (stdev(x) * stdev(y))\n",
    "r_xy\n",
    "\n",
    "t = (r_xy * sqrt(n - 2)) / sqrt(1 - r_xy**2)\n",
    "t\n",
    "\n",
    "p = stats.t.sf(t, df=degf) * 2 # *2 for a two-tailed test\n",
    "p\n",
    "\n",
    "p < α"
   ]
  },
  {
   "cell_type": "code",
   "execution_count": 155,
   "metadata": {},
   "outputs": [
    {
     "data": {
      "text/plain": [
       "(0.24459127886286897, 2.6787677242042115e-87)"
      ]
     },
     "execution_count": 155,
     "metadata": {},
     "output_type": "execute_result"
    }
   ],
   "source": [
    "corr, p = stats.pearsonr(x, y)\n",
    "corr, p"
   ]
  },
  {
   "cell_type": "markdown",
   "metadata": {},
   "source": [
    "## P-value is less than alpha, must reject the null (no significant correlation between tenure and total charges)"
   ]
  },
  {
   "cell_type": "code",
   "execution_count": null,
   "metadata": {},
   "outputs": [],
   "source": [
    "#Does tenure correlate with monthly charges for internet service?\n",
    "\"\"\"\n",
    "H0: There is no significantly significant correlation between tenure and monthly charges for internet service\n",
    "\"\"\"\n",
    "# First must make boolean mask for internet service"
   ]
  },
  {
   "cell_type": "code",
   "execution_count": null,
   "metadata": {},
   "outputs": [],
   "source": []
  },
  {
   "cell_type": "code",
   "execution_count": 63,
   "metadata": {},
   "outputs": [
    {
     "data": {
      "text/plain": [
       "customer_id                object\n",
       "gender                     object\n",
       "is_senior_citizen           int64\n",
       "partner                    object\n",
       "dependents                 object\n",
       "phone_service               int64\n",
       "internet_service            int64\n",
       "contract_type               int64\n",
       "payment_type               object\n",
       "monthly_charges            object\n",
       "total_charges              object\n",
       "churn                      object\n",
       "monthly_tenure              int64\n",
       "is_female                    bool\n",
       "has_churned                  bool\n",
       "has_phone                    bool\n",
       "has_internet                 bool\n",
       "has_phone_and_internet       bool\n",
       "partner_dependents          int64\n",
       "start_date                 object\n",
       "average_monthly_charges    object\n",
       "contract_details           object\n",
       "phone_service_details      object\n",
       "internet_details           object\n",
       "product_key                 int64\n",
       "dtype: object"
      ]
     },
     "execution_count": 63,
     "metadata": {},
     "output_type": "execute_result"
    }
   ],
   "source": [
    "telco.dtypes"
   ]
  },
  {
   "cell_type": "code",
   "execution_count": 32,
   "metadata": {},
   "outputs": [
    {
     "data": {
      "text/plain": [
       "Index(['customer_id', 'gender', 'is_senior_citizen', 'partner', 'dependents',\n",
       "       'phone_service', 'internet_service', 'contract_type', 'payment_type',\n",
       "       'monthly_charges', 'total_charges', 'churn', 'monthly_tenure',\n",
       "       'is_female', 'has_churned', 'has_phone', 'has_internet',\n",
       "       'has_phone_and_internet', 'partner_dependents', 'start_date',\n",
       "       'average_monthly_charges', 'contract_details', 'phone_service_details',\n",
       "       'internet_details', 'product_key'],\n",
       "      dtype='object')"
      ]
     },
     "execution_count": 32,
     "metadata": {},
     "output_type": "execute_result"
    }
   ],
   "source": [
    "telco.columns"
   ]
  },
  {
   "cell_type": "code",
   "execution_count": 27,
   "metadata": {},
   "outputs": [],
   "source": [
    "bool_series = telco.churn == \"Yes\"\n",
    "yes_churn = telco[bool_series]"
   ]
  },
  {
   "cell_type": "code",
   "execution_count": 28,
   "metadata": {},
   "outputs": [],
   "source": [
    "bool_series = telco.churn == \"No\"\n",
    "no_churn = telco[bool_series]"
   ]
  },
  {
   "cell_type": "markdown",
   "metadata": {},
   "source": [
    " ## 2. Use the employees database.\n",
    "\n",
    "   - Is there a relationship between how long an employee has been with the company and their salary?\n",
    "   - Is there a relationship between how long an employee has been with the company and the number of titles they \n",
    "     have had?"
   ]
  },
  {
   "cell_type": "code",
   "execution_count": null,
   "metadata": {},
   "outputs": [],
   "source": []
  },
  {
   "cell_type": "markdown",
   "metadata": {},
   "source": [
    "## 3. Use the sleepstudy data. Is there a relationship between days and reaction time?"
   ]
  },
  {
   "cell_type": "code",
   "execution_count": null,
   "metadata": {},
   "outputs": [],
   "source": []
  }
 ],
 "metadata": {
  "kernelspec": {
   "display_name": "Python 3",
   "language": "python",
   "name": "python3"
  },
  "language_info": {
   "codemirror_mode": {
    "name": "ipython",
    "version": 3
   },
   "file_extension": ".py",
   "mimetype": "text/x-python",
   "name": "python",
   "nbconvert_exporter": "python",
   "pygments_lexer": "ipython3",
   "version": "3.8.3"
  }
 },
 "nbformat": 4,
 "nbformat_minor": 4
}
