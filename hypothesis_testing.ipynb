{
 "cells": [
  {
   "cell_type": "markdown",
   "metadata": {},
   "source": [
    "# 1.\n",
    "   - Has the network latency gone up since we switched internet service providers?\n",
    "  "
   ]
  },
  {
   "cell_type": "code",
   "execution_count": null,
   "metadata": {},
   "outputs": [],
   "source": [
    "# null hypothesis \n",
    "\"\"\"\n",
    "There is no statistically significant difference in network latency time between service providers. \n",
    "\"\"\"\n",
    "# alternate hypothesis\n",
    "\"\"\"\n",
    "There is a statistically significant difference in network latency time between service providers.\n",
    "\"\"\"\n",
    "# true positive (REJECT the null, and the null is FALSE)\n",
    "\"\"\"\n",
    "When latency was tested a p-value lower than our significance level (0.05) was identified.\n",
    "(i.e. evidence enough to support the alternative) so and must reject the null hypothesis. \n",
    "\"\"\"\n",
    "# true negative (ACCEPT the null, and the null is TRUE)\n",
    "\"\"\"\n",
    "When latency was tested a p-value greater than our significance level (0.05) was identified.\n",
    "(i.e. evidence enough to support the null) so we fail to reject the null hypothesis.\n",
    "\"\"\"\n",
    "# type I error (REJECT the null hypothesis, but, in reality, the null hypothesis is TRUE)\n",
    "\"\"\"\n",
    "When latency was tested a p-value lower than our significance level (0.05) was identified.\n",
    "(i.e. evidence enough to support the alternative) but we failed reject the null hypothesis. \n",
    "\"\"\"\n",
    "# type II error (ACCEPT the null hypothesis when it is actually FALSE.)\n",
    "\"\"\"\n",
    "When latency was tested a p-value greater than our significance level (0.05) was identified.\n",
    "(i.e. evidence enough to support the null) but we rejected the null hypothesis.\n",
    "\"\"\""
   ]
  },
  {
   "cell_type": "markdown",
   "metadata": {},
   "source": [
    "# 2. \n",
    "   - Is the website redesign any good?\n",
    "   "
   ]
  },
  {
   "cell_type": "code",
   "execution_count": null,
   "metadata": {},
   "outputs": [],
   "source": [
    "# null hypothesis\n",
    "\"\"\"\n",
    "There is no statistically significant quantifiable difference between the old and new design.\n",
    "\"\"\"\n",
    "# alternate hypothesis\n",
    "\"\"\"\n",
    "There is a statistically significant quantifiable difference between the old and new design.\n",
    "\"\"\"\n",
    "# true positive\n",
    "\"\"\"\n",
    "When quantifiable differences were tested a p-value lower than our significance level (0.05) was identified.\n",
    "(i.e. evidence enough to support the alternative) so and must reject the null hypothesis.\n",
    "\"\"\"\n",
    "# true negative\n",
    "\"\"\"\n",
    "When quantifiable differences were tested a p-value greater than our significance level (0.05) was identified.\n",
    "(i.e. evidence enough to support the null) so we fail to reject the null hypothesis.\n",
    "\"\"\"\n",
    "# type I error\n",
    "\"\"\"\n",
    "When quantifiable differences were tested a p-value lower than our significance level (0.05) was identified.\n",
    "(i.e. evidence enough to support the alternative) but we failed reject the null hypothesis.\n",
    "\"\"\"\n",
    "# type II error\n",
    "\"\"\"\n",
    "When quantifiable differences were tested a p-value greater than our significance level (0.05) was identified.\n",
    "(i.e. evidence enough to support the null) but we rejected the null hypothesis.\n",
    "\"\"\""
   ]
  },
  {
   "cell_type": "markdown",
   "metadata": {},
   "source": [
    "# 3.   \n",
    "   - Is our television ad driving more sales?"
   ]
  },
  {
   "cell_type": "code",
   "execution_count": null,
   "metadata": {},
   "outputs": [],
   "source": [
    "# null hypothesis\n",
    "\"\"\"\n",
    "The ad has not had a statistically significant impact on sales\n",
    "\"\"\"\n",
    "# alternate hypothesis\n",
    "\"\"\"\n",
    "The ad has provided a statistically significant impact on sales\n",
    "\"\"\"\n",
    "# true positive\n",
    "\"\"\"\n",
    "When sales were examined a p-value lower than our significance level (0.05) was identified.\n",
    "(i.e. evidence enough to support the alternative) so and must reject the null hypothesis.\n",
    "\"\"\"\n",
    "# true negative\n",
    "\"\"\"\n",
    "When sales were examined a p-value greater than our significance level (0.05) was identified.\n",
    "(i.e. evidence enough to support the null) so we fail to reject the null hypothesis.\n",
    "\"\"\"\n",
    "# type I error\n",
    "\"\"\"\n",
    "When sales were examined a p-value lower than our significance level (0.05) was identified.\n",
    "(i.e. evidence enough to support the alternative) but we failed reject the null hypothesis.\n",
    "\"\"\"\n",
    "# type II error\n",
    "\"\"\"\n",
    "When sales were examined a p-value greater than our significance level (0.05) was identified.\n",
    "(i.e. evidence enough to support the null) but we rejected the null hypothesis.\n",
    "\"\"\""
   ]
  }
 ],
 "metadata": {
  "kernelspec": {
   "display_name": "Python 3",
   "language": "python",
   "name": "python3"
  },
  "language_info": {
   "codemirror_mode": {
    "name": "ipython",
    "version": 3
   },
   "file_extension": ".py",
   "mimetype": "text/x-python",
   "name": "python",
   "nbconvert_exporter": "python",
   "pygments_lexer": "ipython3",
   "version": "3.8.3"
  }
 },
 "nbformat": 4,
 "nbformat_minor": 4
}
