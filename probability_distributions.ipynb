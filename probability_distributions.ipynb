{
 "cells": [
  {
   "cell_type": "code",
   "execution_count": 1,
   "metadata": {},
   "outputs": [],
   "source": [
    "import pandas as pd\n",
    "import numpy as np\n",
    "import scipy.stats as stats\n",
    "import matplotlib.pyplot as plt\n",
    "import seaborn as sns\n",
    "from math import sqrt\n",
    "\n",
    "plt.rc('axes.spines', top=False, right=False)\n",
    "plt.rc('figure', figsize=(9, 6))"
   ]
  },
  {
   "cell_type": "markdown",
   "metadata": {},
   "source": [
    "# 1\n",
    "A bank found that the average number of cars waiting during the noon hour at a drive-up window follows a Poisson distribution with a mean of 2 cars. Make a chart of this distribution and answer these questions concerning the probability of cars waiting at the drive-up window.\n",
    " - What is the probability that no cars drive up in the noon hour?\n",
    " - What is the probability that 3 or more cars come through the drive through?\n",
    " - How likely is it that the drive through gets at least 1 car?"
   ]
  },
  {
   "cell_type": "code",
   "execution_count": 2,
   "metadata": {},
   "outputs": [
    {
     "data": {
      "text/plain": [
       "Text(0, 0.5, '$P(X = x)$')"
      ]
     },
     "execution_count": 2,
     "metadata": {},
     "output_type": "execute_result"
    },
    {
     "data": {
      "image/png": "[encoded data removed]",
      "text/plain": [
       "<Figure size 648x432 with 1 Axes>"
      ]
     },
     "metadata": {
      "needs_background": "light"
     },
     "output_type": "display_data"
    }
   ],
   "source": [
    "# Chart the distribution\n",
    "\n",
    "x = np.arange(0, 5)\n",
    "y = stats.poisson(2).pmf(x)\n",
    "\n",
    "plt.bar(x, y)\n",
    "plt.title('What does the poisson distribution look like?')\n",
    "plt.xlabel('$x$')\n",
    "plt.ylabel('$P(X = x)$')"
   ]
  },
  {
   "cell_type": "code",
   "execution_count": 3,
   "metadata": {},
   "outputs": [
    {
     "data": {
      "text/plain": [
       "0.1353352832366127"
      ]
     },
     "execution_count": 3,
     "metadata": {},
     "output_type": "execute_result"
    }
   ],
   "source": [
    "#What is the probability that no cars drive up in the noon hour? - (Distribution)\n",
    "\n",
    "average_rate = 2\n",
    "stats.poisson(average_rate).pmf(0)\n"
   ]
  },
  {
   "cell_type": "code",
   "execution_count": 73,
   "metadata": {},
   "outputs": [
    {
     "data": {
      "text/plain": [
       "0.13753"
      ]
     },
     "execution_count": 73,
     "metadata": {},
     "output_type": "execute_result"
    }
   ],
   "source": [
    "#What is the probability that no cars drive up in the noon hour? - (Simulation)\n",
    "\n",
    "size = 100_000\n",
    "cars = np.random.poisson(2, size = size)\n",
    "pd.Series(cars)\n",
    "df = pd.DataFrame(cars)\n",
    "df[\"cars\"] = df.sum(axis=1) == 0\n",
    "df.cars.mean()"
   ]
  },
  {
   "cell_type": "code",
   "execution_count": 5,
   "metadata": {},
   "outputs": [
    {
     "data": {
      "text/plain": [
       "0.32332358381693654"
      ]
     },
     "execution_count": 5,
     "metadata": {},
     "output_type": "execute_result"
    }
   ],
   "source": [
    "#What is the probability that 3 or more cars come through the drive through? - (Distribution)\n",
    "## Need to use 2, because greater than is not inclusive\n",
    "\n",
    "average_rate = 2\n",
    "stats.poisson(average_rate).sf(2)\n"
   ]
  },
  {
   "cell_type": "code",
   "execution_count": 74,
   "metadata": {},
   "outputs": [
    {
     "data": {
      "text/plain": [
       "0.32111"
      ]
     },
     "execution_count": 74,
     "metadata": {},
     "output_type": "execute_result"
    }
   ],
   "source": [
    "#What is the probability that 3 or more cars come through the drive through? - (Simulation)\n",
    "\n",
    "size = 100_000\n",
    "cars = np.random.poisson(2, size = size)\n",
    "pd.Series(cars)\n",
    "df = pd.DataFrame(cars)\n",
    "df[\"cars\"] = df.sum(axis=1) >= 3\n",
    "df.cars.mean()"
   ]
  },
  {
   "cell_type": "code",
   "execution_count": 7,
   "metadata": {},
   "outputs": [
    {
     "data": {
      "text/plain": [
       "0.8646647167633873"
      ]
     },
     "execution_count": 7,
     "metadata": {},
     "output_type": "execute_result"
    }
   ],
   "source": [
    "#How likely is it that the drive through gets at least 1 car? - (Distribution)\n",
    "\n",
    "average_rate = 2\n",
    "stats.poisson(average_rate).sf(0)\n"
   ]
  },
  {
   "cell_type": "code",
   "execution_count": 75,
   "metadata": {},
   "outputs": [
    {
     "data": {
      "text/plain": [
       "0.86429"
      ]
     },
     "execution_count": 75,
     "metadata": {},
     "output_type": "execute_result"
    }
   ],
   "source": [
    "#How likely is it that the drive through gets at least 1 car? - (Simulation)\n",
    "\n",
    "size = 100_000\n",
    "cars = np.random.poisson(2, size = size)\n",
    "pd.Series(cars)\n",
    "df = pd.DataFrame(cars)\n",
    "df[\"cars\"] = df.sum(axis=1) >= 1\n",
    "df.cars.mean()"
   ]
  },
  {
   "cell_type": "markdown",
   "metadata": {},
   "source": [
    "# 2\n",
    "Grades of State University graduates are normally distributed with a mean of 3.0 and a standard deviation of .3. Calculate the following:\n",
    "- What grade point average is required to be in the top 5% of the graduating class?\n",
    "- What GPA constitutes the bottom 15% of the class?\n",
    "- An eccentric alumnus left scholarship money for students in the third decile from the bottom of their \n",
    "  class. Determine the range of the third decile. Would a student with a 2.8 grade point average qualify \n",
    "  for this scholarship?\n",
    "- If I have a GPA of 3.5, what percentile am I in?"
   ]
  },
  {
   "cell_type": "code",
   "execution_count": 9,
   "metadata": {},
   "outputs": [
    {
     "data": {
      "text/plain": [
       "3.49"
      ]
     },
     "execution_count": 9,
     "metadata": {},
     "output_type": "execute_result"
    }
   ],
   "source": [
    "#What grade point average is required to be in the top 5% of the graduating class? - (Distribution)\n",
    "\n",
    "mean = 3.0 \n",
    "sd = 0.3 \n",
    "\n",
    "round(stats.norm(mean, sd).isf(.05),2)"
   ]
  },
  {
   "cell_type": "code",
   "execution_count": 10,
   "metadata": {},
   "outputs": [
    {
     "data": {
      "text/plain": [
       "3.49"
      ]
     },
     "execution_count": 10,
     "metadata": {},
     "output_type": "execute_result"
    }
   ],
   "source": [
    "#What grade point average is required to be in the top 5% of the graduating class? - (Simulation)\n",
    "\n",
    "gpa_top_5 = np.random.normal(3.0, 0.3, size= 100_000)\n",
    "round(pd.Series(gpa_top_5).quantile(.95),2)"
   ]
  },
  {
   "cell_type": "code",
   "execution_count": 11,
   "metadata": {},
   "outputs": [
    {
     "data": {
      "text/plain": [
       "2.69"
      ]
     },
     "execution_count": 11,
     "metadata": {},
     "output_type": "execute_result"
    }
   ],
   "source": [
    "# What GPA constitutes the bottom 15% of the class? - (Distribution)\n",
    "\n",
    "mean = 3.0 \n",
    "sd = 0.3 \n",
    "\n",
    "round(stats.norm(mean, sd).ppf(.15),2)"
   ]
  },
  {
   "cell_type": "code",
   "execution_count": 12,
   "metadata": {},
   "outputs": [
    {
     "data": {
      "text/plain": [
       "2.69"
      ]
     },
     "execution_count": 12,
     "metadata": {},
     "output_type": "execute_result"
    }
   ],
   "source": [
    "# What GPA constitutes the bottom 15% of the class? - (Simulation)\n",
    "\n",
    "gpa = np.random.normal(3.0, 0.3, size= 100_000)\n",
    "round(pd.Series(gpa).quantile(.15),2)"
   ]
  },
  {
   "cell_type": "code",
   "execution_count": 13,
   "metadata": {},
   "outputs": [
    {
     "name": "stdout",
     "output_type": "stream",
     "text": [
      "The lower bound is:2.75\n",
      "The upper bound is:2.84\n"
     ]
    }
   ],
   "source": [
    "#An eccentric alumnus left scholarship money for students in the third decile from the bottom of their class. \n",
    "#Determine the range of the third decile. Would a student with a 2.8 grade point average qualify for this scholarship? - (Distribution)\n",
    "\n",
    "mean = 3.0 \n",
    "sd = 0.3 \n",
    "\n",
    "\"\"\"\n",
    "1st 0-1, 2nd 1-2, 3rd 2-3 (20%)\n",
    "\"\"\"\n",
    "#bottom of 3rd decile\n",
    "bottom = round(stats.norm(mean, sd).ppf(.2),2)\n",
    "\n",
    "#top of 3rd decile\n",
    "top = round(stats.norm(mean, sd).ppf(.3),2)\n",
    "\n",
    "print(f\"The lower bound is:{bottom}\")\n",
    "print(f\"The upper bound is:{top}\")"
   ]
  },
  {
   "cell_type": "code",
   "execution_count": 14,
   "metadata": {},
   "outputs": [
    {
     "name": "stdout",
     "output_type": "stream",
     "text": [
      "The lower bound is: 2.75\n",
      "The upper bound is: 2.84\n"
     ]
    }
   ],
   "source": [
    "#An eccentric alumnus left scholarship money for students in the third decile from the bottom of their class. \n",
    "#Determine the range of the third decile. Would a student with a 2.8 grade point average qualify for this scholarship? - (Simulations)\n",
    "\n",
    "print(\"The lower bound is:\",round(stats.norm(3.0,.3).ppf(.2),2))\n",
    "print(\"The upper bound is:\",round(stats.norm(3.0,.3).ppf(.3),2))"
   ]
  },
  {
   "cell_type": "code",
   "execution_count": 15,
   "metadata": {},
   "outputs": [
    {
     "name": "stdout",
     "output_type": "stream",
     "text": [
      "The range of the third decile is 2.75 to 2.84\n",
      "This means a studnt with a 2.8 gpa would qualify\n"
     ]
    }
   ],
   "source": [
    "#Would a student with a 2.8 grade point average qualify for this scholarship? - (Distribution / Simulation)\n",
    "\n",
    "\n",
    "print(f'The range of the third decile is {bottom} to {top}')\n",
    "print('This means a studnt with a 2.8 gpa would qualify')"
   ]
  },
  {
   "cell_type": "code",
   "execution_count": 16,
   "metadata": {},
   "outputs": [
    {
     "data": {
      "text/plain": [
       "0.0477903522728147"
      ]
     },
     "execution_count": 16,
     "metadata": {},
     "output_type": "execute_result"
    }
   ],
   "source": [
    "#If I have a GPA of 3.5, what percentile am I in? -- (Distribution / Simulation)\n",
    "\n",
    "stats.norm(mean, sd).sf(3.5)"
   ]
  },
  {
   "cell_type": "markdown",
   "metadata": {},
   "source": [
    "# 3\n",
    "A marketing website has an average click-through rate of 2%. One day they observe 4326 visitors and 97 click-throughs. How likely is it that this many people or more click through?"
   ]
  },
  {
   "cell_type": "code",
   "execution_count": 19,
   "metadata": {},
   "outputs": [
    {
     "data": {
      "text/plain": [
       "0.0198013266932447"
      ]
     },
     "execution_count": 19,
     "metadata": {},
     "output_type": "execute_result"
    }
   ],
   "source": [
    "# Distribution\n",
    "\n",
    "avg_rate = 0.02\n",
    "cur_rate = 97/4326\n",
    "\n",
    "stats.poisson(avg_rate).sf(cur_rate)"
   ]
  },
  {
   "cell_type": "code",
   "execution_count": 27,
   "metadata": {},
   "outputs": [
    {
     "data": {
      "text/plain": [
       "0.0215"
      ]
     },
     "execution_count": 27,
     "metadata": {},
     "output_type": "execute_result"
    }
   ],
   "source": [
    "# Simulation\n",
    "trial = 10_000\n",
    "prob = [97/4326, 4229/4326]\n",
    "# 1 yes, 0 no\n",
    "clicks = np.random.choice([1, 0], size=(trial), p= prob)\n",
    "df = pd.DataFrame(clicks)\n",
    "df[\"yes\"] = df.sum(axis=1) >= 1\n",
    "df.yes.mean()\n"
   ]
  },
  {
   "cell_type": "markdown",
   "metadata": {},
   "source": [
    "# 4\n",
    "You are working on some statistics homework consisting of 100 questions where all of the answers are a probability rounded to the hundreths place. Looking to save time, you put down random probabilities as the answer to each question.\n",
    "- What is the probability that at least one of your first 60 answers is correct?\n",
    "        "
   ]
  },
  {
   "cell_type": "code",
   "execution_count": 28,
   "metadata": {},
   "outputs": [
    {
     "data": {
      "text/plain": [
       "0.4463030627429263"
      ]
     },
     "execution_count": 28,
     "metadata": {},
     "output_type": "execute_result"
    }
   ],
   "source": [
    "# Distribution\n",
    "\n",
    "#hundreds place consists of a .## where each # is a digit 0 through 9\n",
    "#the total possibilities is 10 times 10\n",
    "#the probability of one number is 1/100\n",
    "# we also need to add the probability of 0.00 and 1.00\n",
    "\n",
    "prob = 1/102\n",
    "\n",
    "stats.binom(60, prob).sf(0)"
   ]
  },
  {
   "cell_type": "code",
   "execution_count": 42,
   "metadata": {},
   "outputs": [
    {
     "data": {
      "text/plain": [
       "0.4442"
      ]
     },
     "execution_count": 42,
     "metadata": {},
     "output_type": "execute_result"
    }
   ],
   "source": [
    "#Simulation\n",
    "\n",
    "trial = 10_000\n",
    "prob = [1/102, 101/102]\n",
    "questions = 60\n",
    "# 1 correct, 0 incorrect\n",
    "grade = np.random.choice([1, 0], size=(trial, questions), p=prob)\n",
    "df = pd.DataFrame(grade)\n",
    "df[\"correct\"] = df.sum(axis=1) >= 1\n",
    "df.correct.mean()"
   ]
  },
  {
   "cell_type": "markdown",
   "metadata": {},
   "source": [
    "# 5\n",
    "The codeup staff tends to get upset when the student break area is not cleaned up. Suppose that there's a 3% chance that any one student cleans the break area when they visit it, and, on any given day, about 90% of the 3 active cohorts of 22 students visit the break area. How likely is it that the break area gets cleaned up each day? How likely is it that it goes two days without getting cleaned up? All week?"
   ]
  },
  {
   "cell_type": "code",
   "execution_count": 47,
   "metadata": {},
   "outputs": [
    {
     "data": {
      "text/plain": [
       "0.3279559561583168"
      ]
     },
     "execution_count": 47,
     "metadata": {},
     "output_type": "execute_result"
    }
   ],
   "source": [
    "# Distribution\n",
    "# How likely is it that the break area gets cleaned up each day?\n",
    "\n",
    "prob_student_visit = (.03) * (.9 * 22)\n",
    "days = 1\n",
    "\n",
    "stats.poisson(prob_student_visit).pmf(days)"
   ]
  },
  {
   "cell_type": "code",
   "execution_count": 72,
   "metadata": {},
   "outputs": [
    {
     "data": {
      "text/plain": [
       "0.3299"
      ]
     },
     "execution_count": 72,
     "metadata": {},
     "output_type": "execute_result"
    }
   ],
   "source": [
    "#Simulation\n",
    "# How likely is it that the break area gets cleaned up each day?\n",
    "\n",
    "clean = np.random.poisson((.03) * (.9 * 22), size=10_000)\n",
    "df = pd.DataFrame(clean)\n",
    "df[\"clean\"] = df.sum(axis=1) == 1\n",
    "df.clean.mean()"
   ]
  },
  {
   "cell_type": "code",
   "execution_count": 48,
   "metadata": {},
   "outputs": [
    {
     "data": {
      "text/plain": [
       "0.0974029189790201"
      ]
     },
     "execution_count": 48,
     "metadata": {},
     "output_type": "execute_result"
    }
   ],
   "source": [
    "#Distribution\n",
    "#How likely is it that it goes two days without getting cleaned up?\n",
    "\n",
    "prob_student_visit = (.03) * (.9 * 22)\n",
    "days = 2\n",
    "\n",
    "stats.poisson(prob_student_visit).pmf(days)"
   ]
  },
  {
   "cell_type": "code",
   "execution_count": 79,
   "metadata": {},
   "outputs": [
    {
     "data": {
      "text/plain": [
       "0.0924"
      ]
     },
     "execution_count": 79,
     "metadata": {},
     "output_type": "execute_result"
    }
   ],
   "source": [
    "#Simulation\n",
    "#How likely is it that it goes two days without getting cleaned up?\n",
    "\n",
    "clean = np.random.poisson((.03) * (.9 * 22), size=10_000)\n",
    "df = pd.DataFrame(clean)\n",
    "df[\"clean\"] = df.sum(axis=1) == 2\n",
    "df.clean.mean()"
   ]
  },
  {
   "cell_type": "code",
   "execution_count": 49,
   "metadata": {},
   "outputs": [
    {
     "data": {
      "text/plain": [
       "0.00034023583757672703"
      ]
     },
     "execution_count": 49,
     "metadata": {},
     "output_type": "execute_result"
    }
   ],
   "source": [
    "#Distribution\n",
    "#All week?\n",
    "\n",
    "prob_student_visit = (.03) * (.9 * 22)\n",
    "days = 5\n",
    "\n",
    "stats.poisson(prob_student_visit).pmf(days)"
   ]
  },
  {
   "cell_type": "code",
   "execution_count": 80,
   "metadata": {},
   "outputs": [
    {
     "data": {
      "text/plain": [
       "0.0001"
      ]
     },
     "execution_count": 80,
     "metadata": {},
     "output_type": "execute_result"
    }
   ],
   "source": [
    "#Simulation\n",
    "#All week?\n",
    "\n",
    "clean = np.random.poisson((.03) * (.9 * 22), size=10_000)\n",
    "df = pd.DataFrame(clean)\n",
    "df[\"clean\"] = df.sum(axis=1) == 5\n",
    "df.clean.mean()"
   ]
  },
  {
   "cell_type": "markdown",
   "metadata": {},
   "source": [
    "# 6\n",
    "You want to get lunch at La Panaderia, but notice that the line is usually very long at lunchtime. After several weeks of careful observation, you notice that the average number of people in line when your lunch break starts is normally distributed with a mean of 15 and standard deviation of 3. If it takes 2 minutes for each person to order, and 10 minutes from ordering to getting your food, what is the likelihood that you have at least 15 minutes left to eat your food before you have to go back to class? Assume you have one hour for lunch, and ignore travel time to and from La Panaderia."
   ]
  },
  {
   "cell_type": "code",
   "execution_count": 60,
   "metadata": {},
   "outputs": [
    {
     "data": {
      "text/plain": [
       "0.4757169861063199"
      ]
     },
     "execution_count": 60,
     "metadata": {},
     "output_type": "execute_result"
    }
   ],
   "source": [
    "#Distribution\n",
    "#average and std in minutes (each customer = 2 mins)\n",
    "avg = 15 * 2\n",
    "std_dev = 3 * 2\n",
    "\n",
    "#needs to be ordered by 35 minute mark\n",
    "stats.poisson(avg,std_dev).cdf(35)"
   ]
  },
  {
   "cell_type": "code",
   "execution_count": 154,
   "metadata": {},
   "outputs": [
    {
     "data": {
      "text/plain": [
       "0.2001"
      ]
     },
     "execution_count": 154,
     "metadata": {},
     "output_type": "execute_result"
    }
   ],
   "source": [
    "#Simulation\n",
    "#average and std in minutes (each customer = 2 mins)\n",
    "\n",
    "lunch = np.random.poisson(lam=30, size=10_000)\n",
    "df = pd.DataFrame(lunch)\n",
    "df[\"lunch\"] = df.sum(axis=1) >= 35\n",
    "df\n",
    "df.lunch.mean()"
   ]
  },
  {
   "cell_type": "markdown",
   "metadata": {},
   "source": [
    "# 7\n",
    "Connect to the employees database and find the average salary of current employees, along with the standard        deviation. For the following questions, calculate the answer based on modeling the employees salaries with a   \n",
    "normal distribution defined by the calculated mean and standard deviation then compare this answer to the\n",
    "actual values present in the salaries dataset.\n",
    "- What percent of employees earn less than 60,000?\n",
    "- What percent of employees earn more than 95,000?\n",
    "- What percent of employees earn between 65,000 and 80,000?\n",
    "- What do the top 5% of employees make?"
   ]
  },
  {
   "cell_type": "code",
   "execution_count": 62,
   "metadata": {},
   "outputs": [],
   "source": [
    "#defines function to create a sql url using personal credentials\n",
    "from env import host, user, password\n",
    "\n",
    "def get_db_url(database, user=user, host=host, password=password): \n",
    "    url = f'mysql+pymysql://{user}:{password}@{host}/{database}'\n",
    "    return url\n",
    "\n",
    "url = get_db_url('employees')"
   ]
  },
  {
   "cell_type": "code",
   "execution_count": 63,
   "metadata": {},
   "outputs": [],
   "source": [
    "avg_salary = pd.read_sql('SELECT avg(salary) FROM salaries',get_db_url('employees'))\n",
    "std_salary = pd.read_sql('SELECT std(salary) FROM salaries',get_db_url('employees'))"
   ]
  },
  {
   "cell_type": "code",
   "execution_count": 64,
   "metadata": {},
   "outputs": [
    {
     "name": "stdout",
     "output_type": "stream",
     "text": [
      "41.08 percent of employees earn less than 60k/year\n"
     ]
    }
   ],
   "source": [
    "#What percent of employees earn less than 60,000?\n",
    "salaries = stats.norm(avg_salary,std_salary)\n",
    "less_than_60k = (salaries.cdf(60_000))\n",
    "less_than_60k = less_than_60k[0]\n",
    "print(round(less_than_60k[0] * 100,2), \"percent of employees earn less than 60k/year\")"
   ]
  },
  {
   "cell_type": "code",
   "execution_count": null,
   "metadata": {},
   "outputs": [],
   "source": [
    "#What percent of employees earn more than 95,000?\n",
    "salaries = stats.norm(avg_salary,std_salary)\n",
    "more_than_95k = (salaries.sf(95_000))\n",
    "more_than_95k = more_than_95k[0]\n",
    "print(round(more_than_95k[0] * 100,2), \"percent of employees more than 95k/year\")"
   ]
  },
  {
   "cell_type": "code",
   "execution_count": 65,
   "metadata": {},
   "outputs": [
    {
     "name": "stdout",
     "output_type": "stream",
     "text": [
      "83.09 percent of employees earn less than 80k/year\n",
      "47.2 percent of employees more than 65k/year\n",
      "35.89 percent of employees make 65-90k a year.\n"
     ]
    }
   ],
   "source": [
    "#What percent of employees earn between 65,000 and 80,000?\n",
    "salaries = stats.norm(avg_salary,std_salary)\n",
    "less_than_80k = (salaries.cdf(80_000))\n",
    "less_than_80k = less_than_80k[0]\n",
    "top_percent = round(less_than_80k[0] * 100,2)\n",
    "print(top_percent, \"percent of employees earn less than 80k/year\")\n",
    "\n",
    "salaries = stats.norm(avg_salary,std_salary)\n",
    "more_than_65k = (salaries.sf(65_000))\n",
    "more_than_65k = more_than_65k[0]\n",
    "bottom_percent = round(more_than_65k[0] * 100,2)\n",
    "print(bottom_percent, \"percent of employees more than 65k/year\")\n",
    "\n",
    "print(top_percent - bottom_percent, \"percent of employees make 65-90k a year.\")"
   ]
  },
  {
   "cell_type": "code",
   "execution_count": 66,
   "metadata": {},
   "outputs": [
    {
     "name": "stdout",
     "output_type": "stream",
     "text": [
      "The top 5% of employees make 3600477.67 dollars a year\n"
     ]
    }
   ],
   "source": [
    "#What do the top 5% of employees make?\n",
    "salaries = stats.norm(avg_salary,std_salary)\n",
    "top_five = (salaries.isf(.95))\n",
    "top_five = top_five[0]\n",
    "print(\"The top 5% of employees make\", round(top_five[0] * 100,2), \"dollars a year\")"
   ]
  },
  {
   "cell_type": "code",
   "execution_count": null,
   "metadata": {},
   "outputs": [],
   "source": []
  }
 ],
 "metadata": {
  "kernelspec": {
   "display_name": "Python 3",
   "language": "python",
   "name": "python3"
  },
  "language_info": {
   "codemirror_mode": {
    "name": "ipython",
    "version": 3
   },
   "file_extension": ".py",
   "mimetype": "text/x-python",
   "name": "python",
   "nbconvert_exporter": "python",
   "pygments_lexer": "ipython3",
   "version": "3.8.3"
  }
 },
 "nbformat": 4,
 "nbformat_minor": 4
}
